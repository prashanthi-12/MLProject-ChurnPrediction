{
  "nbformat": 4,
  "nbformat_minor": 0,
  "metadata": {
    "colab": {
      "provenance": [],
      "include_colab_link": true
    },
    "kernelspec": {
      "name": "python3",
      "display_name": "Python 3"
    },
    "language_info": {
      "name": "python"
    }
  },
  "cells": [
    {
      "cell_type": "markdown",
      "metadata": {
        "id": "view-in-github",
        "colab_type": "text"
      },
      "source": [
        "<a href=\"https://colab.research.google.com/github/prashanthi-12/MLProject-ChurnPrediction/blob/main/Sales_Prediction_Starter.ipynb\" target=\"_parent\"><img src=\"https://colab.research.google.com/assets/colab-badge.svg\" alt=\"Open In Colab\"/></a>"
      ]
    },
    {
      "cell_type": "markdown",
      "source": [
        "# BigMart Sales Prediction\n",
        "\n",
        "![](https://www.analyticsvidhya.com/wp-content/uploads/2016/02/Comp-4.jpg)"
      ],
      "metadata": {
        "id": "13P9c0kAptye"
      }
    },
    {
      "cell_type": "markdown",
      "source": [
        "## Objective\n",
        "\n",
        "The data scientists at BigMart have collected sales data for 1559 products across 10 stores in different cities. Also, certain attributes of each product and store have been defined. The aim is to build a predictive model and find out the sales of each product at a particular store (each row of data).\n",
        "\n",
        "__So the idea is to find out the features (properties) of a product, and store which impacts the sales of a product.__\n",
        "\n",
        "\n",
        "\n",
        "\n"
      ],
      "metadata": {
        "id": "T6H_cVZ0qT_x"
      }
    },
    {
      "cell_type": "markdown",
      "source": [
        "## Dataset Details\n",
        "\n",
        "![](https://i.imgur.com/WlgNuFs.png)"
      ],
      "metadata": {
        "id": "mCwnQPqd0zgs"
      }
    },
    {
      "cell_type": "markdown",
      "source": [
        "## Get the Dataset\n",
        "\n",
        "You can download the dataset manually from [this link](https://drive.google.com/file/d/1xFDvCOLa_gu34CosX8kSCIqqhD-E2te8/view?usp=sharing) or use the following code snippet to load in in google colab directly."
      ],
      "metadata": {
        "id": "IvKILJZ81Eio"
      }
    },
    {
      "cell_type": "code",
      "source": [
        "!gdown --id 1xFDvCOLa_gu34CosX8kSCIqqhD-E2te8"
      ],
      "metadata": {
        "colab": {
          "base_uri": "https://localhost:8080/"
        },
        "id": "MEy_78jA1PW0",
        "outputId": "3f004524-eaf0-4d82-ef6a-8a3465c3a6de"
      },
      "execution_count": null,
      "outputs": [
        {
          "output_type": "stream",
          "name": "stdout",
          "text": [
            "Downloading...\n",
            "From: https://drive.google.com/uc?id=1xFDvCOLa_gu34CosX8kSCIqqhD-E2te8\n",
            "To: /content/sales_prediction.csv\n",
            "100% 870k/870k [00:00<00:00, 5.30MB/s]\n"
          ]
        }
      ]
    }
  ]
}